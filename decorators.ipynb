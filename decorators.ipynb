{
 "cells": [
  {
   "cell_type": "code",
   "execution_count": 18,
   "id": "d7738765-722b-4eb9-937d-a3ffd2f87ad0",
   "metadata": {},
   "outputs": [],
   "source": [
    "def deco(funct):\n",
    "    def return_numbers():\n",
    "        print(\"HEllo,The Number goes here\")\n",
    "        funct()\n",
    "        print(\"HELLO,The Number ends here\")\n",
    "    return return_numbers"
   ]
  },
  {
   "cell_type": "code",
   "execution_count": 19,
   "id": "51b18b42-c15c-4b96-b84e-6971bae25c84",
   "metadata": {},
   "outputs": [],
   "source": [
    "@deco\n",
    "def range_number():\n",
    "    print(4+10)\n",
    "    "
   ]
  },
  {
   "cell_type": "code",
   "execution_count": 20,
   "id": "9bbaa132-00a6-46f0-a66b-c79bf3dbf4ae",
   "metadata": {},
   "outputs": [
    {
     "name": "stdout",
     "output_type": "stream",
     "text": [
      "HEllo,The Number goes here\n",
      "14\n",
      "HELLO,The Number ends here\n"
     ]
    }
   ],
   "source": [
    "range_number()"
   ]
  },
  {
   "cell_type": "code",
   "execution_count": 22,
   "id": "7c073144-312c-4d9a-b546-d748ba9348e7",
   "metadata": {},
   "outputs": [],
   "source": [
    "@deco\n",
    "def rangee():\n",
    "    for i in range(1,10):\n",
    "        print(i)"
   ]
  },
  {
   "cell_type": "code",
   "execution_count": 23,
   "id": "28c55ad8-5516-4246-9c4a-00810c138d18",
   "metadata": {},
   "outputs": [
    {
     "name": "stdout",
     "output_type": "stream",
     "text": [
      "HEllo,The Number goes here\n",
      "1\n",
      "2\n",
      "3\n",
      "4\n",
      "5\n",
      "6\n",
      "7\n",
      "8\n",
      "9\n",
      "HELLO,The Number ends here\n"
     ]
    }
   ],
   "source": [
    "rangee()"
   ]
  },
  {
   "cell_type": "code",
   "execution_count": null,
   "id": "865c6ff5-cda3-4b26-b158-d1dde1af57ec",
   "metadata": {},
   "outputs": [],
   "source": []
  }
 ],
 "metadata": {
  "kernelspec": {
   "display_name": "Python 3 (ipykernel)",
   "language": "python",
   "name": "python3"
  },
  "language_info": {
   "codemirror_mode": {
    "name": "ipython",
    "version": 3
   },
   "file_extension": ".py",
   "mimetype": "text/x-python",
   "name": "python",
   "nbconvert_exporter": "python",
   "pygments_lexer": "ipython3",
   "version": "3.10.8"
  }
 },
 "nbformat": 4,
 "nbformat_minor": 5
}
